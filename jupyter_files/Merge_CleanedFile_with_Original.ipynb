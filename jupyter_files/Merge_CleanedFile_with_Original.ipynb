{
 "cells": [
  {
   "cell_type": "code",
   "execution_count": 5,
   "id": "a9b8dea4-6b9b-4186-8b9a-0f79be636cda",
   "metadata": {},
   "outputs": [],
   "source": [
    "import pandas as pd\n",
    "\n",
    "\n",
    "df1 = pd.read_csv('reddit_stock_posts.csv')\n",
    "df2 = pd.read_csv('cleaned_file.csv')\n",
    "\n",
    "# Concatenate them horizontally (side by side)\n",
    "combined_df = pd.concat([df1, df2], axis=1)\n",
    "\n",
    "# Save to a new CSV file\n",
    "combined_df.to_csv('combined_file.csv', index=False)\n"
   ]
  },
  {
   "cell_type": "code",
   "execution_count": 11,
   "id": "9eeb027c-16ed-4a0d-997e-62c24b875ed8",
   "metadata": {},
   "outputs": [],
   "source": [
    "combined_df.rename(columns={'sentiment': 'textblob_sentiment'}, inplace=True)"
   ]
  },
  {
   "cell_type": "code",
   "execution_count": 16,
   "id": "c855b671-8ea9-4ea2-acdd-dd375d95a37d",
   "metadata": {},
   "outputs": [],
   "source": [
    "combined_df.to_csv('combined_file.csv',index=False)"
   ]
  },
  {
   "cell_type": "code",
   "execution_count": null,
   "id": "27fc1eae-2eec-4591-8ced-baa0f904e53a",
   "metadata": {},
   "outputs": [],
   "source": []
  }
 ],
 "metadata": {
  "kernelspec": {
   "display_name": "anaconda-ai-2024.04-py310",
   "language": "python",
   "name": "conda-env-anaconda-ai-2024.04-py310-py"
  },
  "language_info": {
   "codemirror_mode": {
    "name": "ipython",
    "version": 3
   },
   "file_extension": ".py",
   "mimetype": "text/x-python",
   "name": "python",
   "nbconvert_exporter": "python",
   "pygments_lexer": "ipython3",
   "version": "3.10.13"
  }
 },
 "nbformat": 4,
 "nbformat_minor": 5
}
